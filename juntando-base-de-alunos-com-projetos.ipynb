{
 "cells": [
  {
   "cell_type": "markdown",
   "id": "d82835cb",
   "metadata": {
    "papermill": {
     "duration": 0.012988,
     "end_time": "2023-05-11T20:51:07.545773",
     "exception": false,
     "start_time": "2023-05-11T20:51:07.532785",
     "status": "completed"
    },
    "tags": []
   },
   "source": [
    "# Análise da relação de alunos com projetos filiados do programa Meninas Digitais"
   ]
  },
  {
   "cell_type": "code",
   "execution_count": 1,
   "id": "16d1bae5",
   "metadata": {
    "_cell_guid": "b1076dfc-b9ad-4769-8c92-a6c4dae69d19",
    "_uuid": "8f2839f25d086af736a60e9eeb907d3b93b6e0e5",
    "execution": {
     "iopub.execute_input": "2023-05-11T20:51:07.570951Z",
     "iopub.status.busy": "2023-05-11T20:51:07.570438Z",
     "iopub.status.idle": "2023-05-11T20:51:07.604420Z",
     "shell.execute_reply": "2023-05-11T20:51:07.603443Z"
    },
    "papermill": {
     "duration": 0.051149,
     "end_time": "2023-05-11T20:51:07.607990",
     "exception": false,
     "start_time": "2023-05-11T20:51:07.556841",
     "status": "completed"
    },
    "tags": []
   },
   "outputs": [
    {
     "name": "stdout",
     "output_type": "stream",
     "text": [
      "/kaggle/input/anlise-de-impacto-do-programa-meninas-digitais/alunos_projeto.csv\n",
      "/kaggle/input/anlise-de-impacto-do-programa-meninas-digitais/Projetos Meninas Digitais (01_08_2022).csv\n",
      "/kaggle/input/anlise-de-impacto-do-programa-meninas-digitais/Copy of Projetos Meninas Digitais - Tabela de AGOSTO (01_08_2022).csv\n",
      "/kaggle/input/dados-inep-2019-teste/SUP_LOCAL_OFERTA_2012.CSV\n",
      "/kaggle/input/dados-inep-2019-teste/SUP_CURSO_2009.CSV\n",
      "/kaggle/input/dados-inep-2019-teste/SUP_IES_2009_2019.csv\n",
      "/kaggle/input/dados-inep-2019-teste/SUP_ALUNO_2009_2019_ORIGINAL_TIC.csv\n",
      "/kaggle/input/dados-inep-2019-teste/SUP_ALUNO_2014.CSV\n",
      "/kaggle/input/dados-inep-2019-teste/SUP_CURSO_2016.CSV\n",
      "/kaggle/input/dados-inep-2019-teste/SUP_ALUNO_2010.CSV\n",
      "/kaggle/input/dados-inep-2019-teste/SUP_ALUNO_2016.CSV\n",
      "/kaggle/input/dados-inep-2019-teste/SUP_IES_2012.CSV\n",
      "/kaggle/input/dados-inep-2019-teste/SUP_DOCENTE_2015.CSV\n",
      "/kaggle/input/dados-inep-2019-teste/SUP_LOCAL_OFERTA_2009_2019.csv\n",
      "/kaggle/input/dados-inep-2019-teste/SUP_CURSO_2019.CSV\n",
      "/kaggle/input/dados-inep-2019-teste/SUP_CURSO_2009_2019_COMPLETO_TIC.csv\n",
      "/kaggle/input/dados-inep-2019-teste/SUP_LOCAL_OFERTA_2011.CSV\n",
      "/kaggle/input/dados-inep-2019-teste/SUP_DOCENTE_2019.CSV\n",
      "/kaggle/input/dados-inep-2019-teste/SUP_LOCAL_OFERTA_2017.CSV\n",
      "/kaggle/input/dados-inep-2019-teste/SUP_IES_2015.CSV\n",
      "/kaggle/input/dados-inep-2019-teste/SUP_DOCENTE_2011.CSV\n",
      "/kaggle/input/dados-inep-2019-teste/SUP_ALUNO_2019.CSV\n",
      "/kaggle/input/dados-inep-2019-teste/SUP_IES_2010.CSV\n",
      "/kaggle/input/dados-inep-2019-teste/SUP_LOCAL_OFERTA_2014.CSV\n",
      "/kaggle/input/dados-inep-2019-teste/SUP_IES_2014.CSV\n",
      "/kaggle/input/dados-inep-2019-teste/DM_CURSO.CSV\n",
      "/kaggle/input/dados-inep-2019-teste/DM_LOCAL_OFERTA.CSV\n",
      "/kaggle/input/dados-inep-2019-teste/SUP_LOCAL_OFERTA_2016.CSV\n",
      "/kaggle/input/dados-inep-2019-teste/SUP_ALUNO_2015.CSV\n",
      "/kaggle/input/dados-inep-2019-teste/SUP_CURSO_2010.CSV\n",
      "/kaggle/input/dados-inep-2019-teste/SUP_ALUNO_2013.CSV\n",
      "/kaggle/input/dados-inep-2019-teste/SUP_IES_2009.CSV\n",
      "/kaggle/input/dados-inep-2019-teste/SUP_CURSO_2012.CSV\n",
      "/kaggle/input/dados-inep-2019-teste/SUP_LOCAL_OFERTA_2010.CSV\n",
      "/kaggle/input/dados-inep-2019-teste/SUP_ALUNO_2017.CSV\n",
      "/kaggle/input/dados-inep-2019-teste/SUP_DOCENTE_2016.CSV\n",
      "/kaggle/input/dados-inep-2019-teste/SUP_CURSO_2011.CSV\n",
      "/kaggle/input/dados-inep-2019-teste/SUP_IES_2011.CSV\n",
      "/kaggle/input/dados-inep-2019-teste/SUP_LOCAL_OFERTA_2019.CSV\n",
      "/kaggle/input/dados-inep-2019-teste/SUP_DOCENTE_2017.CSV\n",
      "/kaggle/input/dados-inep-2019-teste/SUP_CURSO_2013.CSV\n",
      "/kaggle/input/dados-inep-2019-teste/SUP_IES_2017.CSV\n",
      "/kaggle/input/dados-inep-2019-teste/SUP_CURSO_2015.CSV\n",
      "/kaggle/input/dados-inep-2019-teste/SUP_DOCENTE_2009.CSV\n",
      "/kaggle/input/dados-inep-2019-teste/SUP_IES_2019.CSV\n",
      "/kaggle/input/dados-inep-2019-teste/SUP_DOCENTE_2012.CSV\n",
      "/kaggle/input/dados-inep-2019-teste/SUP_ALUNO_2009.CSV\n",
      "/kaggle/input/dados-inep-2019-teste/SUP_DOCENTE_2010.CSV\n",
      "/kaggle/input/dados-inep-2019-teste/SUP_LOCAL_OFERTA_2009.CSV\n",
      "/kaggle/input/dados-inep-2019-teste/SUP_CURSO_2017.CSV\n",
      "/kaggle/input/dados-inep-2019-teste/SUP_DOCENTE_2013.CSV\n",
      "/kaggle/input/dados-inep-2019-teste/SUP_DOCENTE_2014.CSV\n",
      "/kaggle/input/dados-inep-2019-teste/SUP_ALUNO_2012.CSV\n",
      "/kaggle/input/dados-inep-2019-teste/SUP_ALUNO_2009_2019_COMPLETO_TIC.csv\n",
      "/kaggle/input/dados-inep-2019-teste/SUP_ALUNO_2011.CSV\n",
      "/kaggle/input/dados-inep-2019-teste/DM_DOCENTE.CSV\n",
      "/kaggle/input/dados-inep-2019-teste/SUP_LOCAL_OFERTA_2015.CSV\n",
      "/kaggle/input/dados-inep-2019-teste/SUP_LOCAL_OFERTA_2013.CSV\n",
      "/kaggle/input/dados-inep-2019-teste/SUP_CURSO_2014.CSV\n",
      "/kaggle/input/dados-inep-2019-teste/SUP_IES_2013.CSV\n",
      "/kaggle/input/dados-inep-2019-teste/DM_ALUNO.CSV\n",
      "/kaggle/input/dados-inep-2019-teste/SUP_IES_2016.CSV\n",
      "/kaggle/input/dados-inep-2019-teste/DM_IES.CSV\n"
     ]
    }
   ],
   "source": [
    "\n",
    "# This Python 3 environment comes with many helpful analytics libraries installed\n",
    "# It is defined by the kaggle/python Docker image: https://github.com/kaggle/docker-python\n",
    "# For example, here's several helpful packages to load\n",
    "\n",
    "import numpy as np # linear algebra\n",
    "import pandas as pd # data processing, CSV file I/O (e.g. pd.read_csv)\n",
    "\n",
    "# Input data files are available in the read-only \"../input/\" directory\n",
    "# For example, running this (by clicking run or pressing Shift+Enter) will list all files under the input directory\n",
    "\n",
    "import os\n",
    "for dirname, _, filenames in os.walk('/kaggle/input'):\n",
    "    for filename in filenames:\n",
    "        print(os.path.join(dirname, filename))\n",
    "\n",
    "# You can write up to 20GB to the current directory (/kaggle/working/) that gets preserved as output when you create a version using \"Save & Run All\" \n",
    "# You can also write temporary files to /kaggle/temp/, but they won't be saved outside of the current session"
   ]
  },
  {
   "cell_type": "markdown",
   "id": "656ed112",
   "metadata": {
    "papermill": {
     "duration": 0.011121,
     "end_time": "2023-05-11T20:51:07.630602",
     "exception": false,
     "start_time": "2023-05-11T20:51:07.619481",
     "status": "completed"
    },
    "tags": []
   },
   "source": [
    "## Importando dados e Funções"
   ]
  },
  {
   "cell_type": "code",
   "execution_count": 2,
   "id": "0690247a",
   "metadata": {
    "execution": {
     "iopub.execute_input": "2023-05-11T20:51:07.655810Z",
     "iopub.status.busy": "2023-05-11T20:51:07.655350Z",
     "iopub.status.idle": "2023-05-11T20:51:07.660822Z",
     "shell.execute_reply": "2023-05-11T20:51:07.659222Z"
    },
    "papermill": {
     "duration": 0.021771,
     "end_time": "2023-05-11T20:51:07.663577",
     "exception": false,
     "start_time": "2023-05-11T20:51:07.641806",
     "status": "completed"
    },
    "tags": []
   },
   "outputs": [],
   "source": [
    "import numpy as np\n",
    "import pandas as pd"
   ]
  },
  {
   "cell_type": "code",
   "execution_count": 3,
   "id": "bd8bd754",
   "metadata": {
    "execution": {
     "iopub.execute_input": "2023-05-11T20:51:07.687852Z",
     "iopub.status.busy": "2023-05-11T20:51:07.687400Z",
     "iopub.status.idle": "2023-05-11T20:51:59.522192Z",
     "shell.execute_reply": "2023-05-11T20:51:59.520837Z"
    },
    "papermill": {
     "duration": 51.861127,
     "end_time": "2023-05-11T20:51:59.535813",
     "exception": false,
     "start_time": "2023-05-11T20:51:07.674686",
     "status": "completed"
    },
    "tags": []
   },
   "outputs": [
    {
     "data": {
      "text/html": [
       "<div>\n",
       "<style scoped>\n",
       "    .dataframe tbody tr th:only-of-type {\n",
       "        vertical-align: middle;\n",
       "    }\n",
       "\n",
       "    .dataframe tbody tr th {\n",
       "        vertical-align: top;\n",
       "    }\n",
       "\n",
       "    .dataframe thead th {\n",
       "        text-align: right;\n",
       "    }\n",
       "</style>\n",
       "<table border=\"1\" class=\"dataframe\">\n",
       "  <thead>\n",
       "    <tr style=\"text-align: right;\">\n",
       "      <th></th>\n",
       "      <th>NU_ANO_CENSO</th>\n",
       "      <th>CO_IES</th>\n",
       "      <th>TP_CATEGORIA_ADMINISTRATIVA</th>\n",
       "      <th>TP_ORGANIZACAO_ACADEMICA</th>\n",
       "      <th>CO_CURSO</th>\n",
       "      <th>CO_CURSO_POLO</th>\n",
       "      <th>TP_TURNO</th>\n",
       "      <th>TP_GRAU_ACADEMICO</th>\n",
       "      <th>TP_MODALIDADE_ENSINO</th>\n",
       "      <th>TP_NIVEL_ACADEMICO</th>\n",
       "      <th>...</th>\n",
       "      <th>IN_MATRICULA</th>\n",
       "      <th>IN_CONCLUINTE</th>\n",
       "      <th>IN_INGRESSO_TOTAL</th>\n",
       "      <th>IN_INGRESSO_VAGA_NOVA</th>\n",
       "      <th>IN_INGRESSO_PROCESSO_SELETIVO</th>\n",
       "      <th>NU_ANO_INGRESSO</th>\n",
       "      <th>target</th>\n",
       "      <th>TEM_DEFICIENCIA</th>\n",
       "      <th>FINANCIAMENTO_REEMBOLSAVEL</th>\n",
       "      <th>FINANCIAMENTO_NAO_REEMBOLSAVEL</th>\n",
       "    </tr>\n",
       "  </thead>\n",
       "  <tbody>\n",
       "    <tr>\n",
       "      <th>0</th>\n",
       "      <td>2009</td>\n",
       "      <td>588</td>\n",
       "      <td>1</td>\n",
       "      <td>1</td>\n",
       "      <td>69282</td>\n",
       "      <td>NaN</td>\n",
       "      <td>NaN</td>\n",
       "      <td>3.0</td>\n",
       "      <td>1</td>\n",
       "      <td>1</td>\n",
       "      <td>...</td>\n",
       "      <td>0</td>\n",
       "      <td>0</td>\n",
       "      <td>0</td>\n",
       "      <td>NaN</td>\n",
       "      <td>0.0</td>\n",
       "      <td>2006</td>\n",
       "      <td>1</td>\n",
       "      <td>0</td>\n",
       "      <td>0</td>\n",
       "      <td>0</td>\n",
       "    </tr>\n",
       "    <tr>\n",
       "      <th>1</th>\n",
       "      <td>2009</td>\n",
       "      <td>1107</td>\n",
       "      <td>6</td>\n",
       "      <td>3</td>\n",
       "      <td>72070</td>\n",
       "      <td>NaN</td>\n",
       "      <td>NaN</td>\n",
       "      <td>3.0</td>\n",
       "      <td>1</td>\n",
       "      <td>1</td>\n",
       "      <td>...</td>\n",
       "      <td>1</td>\n",
       "      <td>0</td>\n",
       "      <td>0</td>\n",
       "      <td>NaN</td>\n",
       "      <td>0.0</td>\n",
       "      <td>2008</td>\n",
       "      <td>0</td>\n",
       "      <td>0</td>\n",
       "      <td>0</td>\n",
       "      <td>0</td>\n",
       "    </tr>\n",
       "    <tr>\n",
       "      <th>2</th>\n",
       "      <td>2009</td>\n",
       "      <td>1258</td>\n",
       "      <td>6</td>\n",
       "      <td>3</td>\n",
       "      <td>19931</td>\n",
       "      <td>NaN</td>\n",
       "      <td>NaN</td>\n",
       "      <td>1.0</td>\n",
       "      <td>1</td>\n",
       "      <td>1</td>\n",
       "      <td>...</td>\n",
       "      <td>1</td>\n",
       "      <td>0</td>\n",
       "      <td>1</td>\n",
       "      <td>NaN</td>\n",
       "      <td>1.0</td>\n",
       "      <td>2009</td>\n",
       "      <td>0</td>\n",
       "      <td>0</td>\n",
       "      <td>0</td>\n",
       "      <td>0</td>\n",
       "    </tr>\n",
       "    <tr>\n",
       "      <th>3</th>\n",
       "      <td>2009</td>\n",
       "      <td>161</td>\n",
       "      <td>6</td>\n",
       "      <td>2</td>\n",
       "      <td>18180</td>\n",
       "      <td>NaN</td>\n",
       "      <td>NaN</td>\n",
       "      <td>1.0</td>\n",
       "      <td>1</td>\n",
       "      <td>1</td>\n",
       "      <td>...</td>\n",
       "      <td>1</td>\n",
       "      <td>0</td>\n",
       "      <td>0</td>\n",
       "      <td>NaN</td>\n",
       "      <td>0.0</td>\n",
       "      <td>2008</td>\n",
       "      <td>0</td>\n",
       "      <td>0</td>\n",
       "      <td>0</td>\n",
       "      <td>0</td>\n",
       "    </tr>\n",
       "    <tr>\n",
       "      <th>4</th>\n",
       "      <td>2009</td>\n",
       "      <td>4101</td>\n",
       "      <td>6</td>\n",
       "      <td>3</td>\n",
       "      <td>80910</td>\n",
       "      <td>NaN</td>\n",
       "      <td>NaN</td>\n",
       "      <td>3.0</td>\n",
       "      <td>1</td>\n",
       "      <td>1</td>\n",
       "      <td>...</td>\n",
       "      <td>1</td>\n",
       "      <td>0</td>\n",
       "      <td>0</td>\n",
       "      <td>NaN</td>\n",
       "      <td>0.0</td>\n",
       "      <td>2007</td>\n",
       "      <td>0</td>\n",
       "      <td>0</td>\n",
       "      <td>0</td>\n",
       "      <td>0</td>\n",
       "    </tr>\n",
       "  </tbody>\n",
       "</table>\n",
       "<p>5 rows × 74 columns</p>\n",
       "</div>"
      ],
      "text/plain": [
       "   NU_ANO_CENSO  CO_IES  TP_CATEGORIA_ADMINISTRATIVA  \\\n",
       "0          2009     588                            1   \n",
       "1          2009    1107                            6   \n",
       "2          2009    1258                            6   \n",
       "3          2009     161                            6   \n",
       "4          2009    4101                            6   \n",
       "\n",
       "   TP_ORGANIZACAO_ACADEMICA  CO_CURSO  CO_CURSO_POLO  TP_TURNO  \\\n",
       "0                         1     69282            NaN       NaN   \n",
       "1                         3     72070            NaN       NaN   \n",
       "2                         3     19931            NaN       NaN   \n",
       "3                         2     18180            NaN       NaN   \n",
       "4                         3     80910            NaN       NaN   \n",
       "\n",
       "   TP_GRAU_ACADEMICO  TP_MODALIDADE_ENSINO  TP_NIVEL_ACADEMICO  ...  \\\n",
       "0                3.0                     1                   1  ...   \n",
       "1                3.0                     1                   1  ...   \n",
       "2                1.0                     1                   1  ...   \n",
       "3                1.0                     1                   1  ...   \n",
       "4                3.0                     1                   1  ...   \n",
       "\n",
       "  IN_MATRICULA IN_CONCLUINTE  IN_INGRESSO_TOTAL  IN_INGRESSO_VAGA_NOVA  \\\n",
       "0            0             0                  0                    NaN   \n",
       "1            1             0                  0                    NaN   \n",
       "2            1             0                  1                    NaN   \n",
       "3            1             0                  0                    NaN   \n",
       "4            1             0                  0                    NaN   \n",
       "\n",
       "   IN_INGRESSO_PROCESSO_SELETIVO  NU_ANO_INGRESSO  target  TEM_DEFICIENCIA  \\\n",
       "0                            0.0             2006       1                0   \n",
       "1                            0.0             2008       0                0   \n",
       "2                            1.0             2009       0                0   \n",
       "3                            0.0             2008       0                0   \n",
       "4                            0.0             2007       0                0   \n",
       "\n",
       "   FINANCIAMENTO_REEMBOLSAVEL  FINANCIAMENTO_NAO_REEMBOLSAVEL  \n",
       "0                           0                               0  \n",
       "1                           0                               0  \n",
       "2                           0                               0  \n",
       "3                           0                               0  \n",
       "4                           0                               0  \n",
       "\n",
       "[5 rows x 74 columns]"
      ]
     },
     "execution_count": 3,
     "metadata": {},
     "output_type": "execute_result"
    }
   ],
   "source": [
    "dados_alunos = pd.read_csv('/kaggle/input/dados-inep-2019-teste/SUP_ALUNO_2009_2019_COMPLETO_TIC.csv', sep='|', encoding='ISO-8859-1')\n",
    "dados_alunos.head()"
   ]
  },
  {
   "cell_type": "code",
   "execution_count": 4,
   "id": "190a0a97",
   "metadata": {
    "execution": {
     "iopub.execute_input": "2023-05-11T20:51:59.560234Z",
     "iopub.status.busy": "2023-05-11T20:51:59.559783Z",
     "iopub.status.idle": "2023-05-11T20:51:59.588662Z",
     "shell.execute_reply": "2023-05-11T20:51:59.587397Z"
    },
    "papermill": {
     "duration": 0.044417,
     "end_time": "2023-05-11T20:51:59.591355",
     "exception": false,
     "start_time": "2023-05-11T20:51:59.546938",
     "status": "completed"
    },
    "tags": []
   },
   "outputs": [
    {
     "data": {
      "text/html": [
       "<div>\n",
       "<style scoped>\n",
       "    .dataframe tbody tr th:only-of-type {\n",
       "        vertical-align: middle;\n",
       "    }\n",
       "\n",
       "    .dataframe tbody tr th {\n",
       "        vertical-align: top;\n",
       "    }\n",
       "\n",
       "    .dataframe thead th {\n",
       "        text-align: right;\n",
       "    }\n",
       "</style>\n",
       "<table border=\"1\" class=\"dataframe\">\n",
       "  <thead>\n",
       "    <tr style=\"text-align: right;\">\n",
       "      <th></th>\n",
       "      <th>Válido</th>\n",
       "      <th>Nome do Projeto</th>\n",
       "      <th>Status</th>\n",
       "      <th>Ano</th>\n",
       "      <th>Ano de Finalização</th>\n",
       "      <th>Contato</th>\n",
       "      <th>Cidade</th>\n",
       "      <th>Estado</th>\n",
       "      <th>Universidade</th>\n",
       "      <th>Campus</th>\n",
       "      <th>Nome do Projeto - Ativos</th>\n",
       "      <th>Código IES</th>\n",
       "      <th>Código Curso</th>\n",
       "    </tr>\n",
       "  </thead>\n",
       "  <tbody>\n",
       "    <tr>\n",
       "      <th>0</th>\n",
       "      <td>True</td>\n",
       "      <td>#include</td>\n",
       "      <td>Ativo</td>\n",
       "      <td>2021</td>\n",
       "      <td>-</td>\n",
       "      <td>includegirls@facom.ufu.br</td>\n",
       "      <td>Uberlândia</td>\n",
       "      <td>MG</td>\n",
       "      <td>Universidade Federal de Uberlândia</td>\n",
       "      <td>Campus Santa Mônica/Reitoria</td>\n",
       "      <td>#include&lt;girls&gt;</td>\n",
       "      <td>17</td>\n",
       "      <td>1452, 115728, 1187249</td>\n",
       "    </tr>\n",
       "    <tr>\n",
       "      <th>1</th>\n",
       "      <td>True</td>\n",
       "      <td>#include &lt; GURIAS &gt;</td>\n",
       "      <td>Ativo</td>\n",
       "      <td>2018</td>\n",
       "      <td>-</td>\n",
       "      <td>include.gurias@gmail.com</td>\n",
       "      <td>Guaíba</td>\n",
       "      <td>RS</td>\n",
       "      <td>Universidade Estadual do Rio Grande do Sul</td>\n",
       "      <td>NaN</td>\n",
       "      <td>Include Gurias</td>\n",
       "      <td>-</td>\n",
       "      <td>-</td>\n",
       "    </tr>\n",
       "    <tr>\n",
       "      <th>2</th>\n",
       "      <td>True</td>\n",
       "      <td>#include &lt; meninas.uff &gt;</td>\n",
       "      <td>Ativo</td>\n",
       "      <td>2016</td>\n",
       "      <td>-</td>\n",
       "      <td>http://www2.ic.uff.br/~includemeninas/</td>\n",
       "      <td>Niterói</td>\n",
       "      <td>RJ</td>\n",
       "      <td>Universidade Federal Fluminense</td>\n",
       "      <td>Campus da Praia Vermelha, Campus do Gragoatá, ...</td>\n",
       "      <td>#include (meninas.uff)</td>\n",
       "      <td>572</td>\n",
       "      <td>12710, 1122221</td>\n",
       "    </tr>\n",
       "    <tr>\n",
       "      <th>3</th>\n",
       "      <td>False</td>\n",
       "      <td>ADA Code – Meninas Digitais Rondônia</td>\n",
       "      <td>Concluído</td>\n",
       "      <td>2017</td>\n",
       "      <td>2017</td>\n",
       "      <td>https://www.facebook.com/adacodero/</td>\n",
       "      <td>Porto Velho – RO</td>\n",
       "      <td>NaN</td>\n",
       "      <td>IFRO – Campus Porto Velho Calama</td>\n",
       "      <td>NaN</td>\n",
       "      <td>NaN</td>\n",
       "      <td>NaN</td>\n",
       "      <td>NaN</td>\n",
       "    </tr>\n",
       "    <tr>\n",
       "      <th>4</th>\n",
       "      <td>True</td>\n",
       "      <td>ADAs​</td>\n",
       "      <td>Ativo</td>\n",
       "      <td>2017</td>\n",
       "      <td>-</td>\n",
       "      <td>https://sites.google.com/view/projeto-adas</td>\n",
       "      <td>Goiânia</td>\n",
       "      <td>GO</td>\n",
       "      <td>Instituto de Informática, Campus Samambaia – UFG</td>\n",
       "      <td>Campus Samambaia</td>\n",
       "      <td>Projeto ADAs</td>\n",
       "      <td>584</td>\n",
       "      <td>14098, 121570, 123429</td>\n",
       "    </tr>\n",
       "  </tbody>\n",
       "</table>\n",
       "</div>"
      ],
      "text/plain": [
       "   Válido                       Nome do Projeto     Status   Ano  \\\n",
       "0    True                              #include      Ativo  2021   \n",
       "1    True                   #include < GURIAS >      Ativo  2018   \n",
       "2    True              #include < meninas.uff >      Ativo  2016   \n",
       "3   False  ADA Code – Meninas Digitais Rondônia  Concluído  2017   \n",
       "4    True                                 ADAs​      Ativo  2017   \n",
       "\n",
       "  Ano de Finalização                                     Contato  \\\n",
       "0                  -                   includegirls@facom.ufu.br   \n",
       "1                  -                    include.gurias@gmail.com   \n",
       "2                  -      http://www2.ic.uff.br/~includemeninas/   \n",
       "3               2017         https://www.facebook.com/adacodero/   \n",
       "4                  -  https://sites.google.com/view/projeto-adas   \n",
       "\n",
       "             Cidade Estado                                      Universidade  \\\n",
       "0        Uberlândia     MG                Universidade Federal de Uberlândia   \n",
       "1            Guaíba     RS        Universidade Estadual do Rio Grande do Sul   \n",
       "2           Niterói     RJ                   Universidade Federal Fluminense   \n",
       "3  Porto Velho – RO    NaN                  IFRO – Campus Porto Velho Calama   \n",
       "4           Goiânia     GO  Instituto de Informática, Campus Samambaia – UFG   \n",
       "\n",
       "                                              Campus Nome do Projeto - Ativos  \\\n",
       "0                       Campus Santa Mônica/Reitoria          #include<girls>   \n",
       "1                                                NaN           Include Gurias   \n",
       "2  Campus da Praia Vermelha, Campus do Gragoatá, ...   #include (meninas.uff)   \n",
       "3                                                NaN                      NaN   \n",
       "4                                   Campus Samambaia             Projeto ADAs   \n",
       "\n",
       "  Código IES           Código Curso  \n",
       "0         17  1452, 115728, 1187249  \n",
       "1          -                      -  \n",
       "2        572         12710, 1122221  \n",
       "3        NaN                    NaN  \n",
       "4        584  14098, 121570, 123429  "
      ]
     },
     "execution_count": 4,
     "metadata": {},
     "output_type": "execute_result"
    }
   ],
   "source": [
    "dados_meninas = pd.read_csv('/kaggle/input/anlise-de-impacto-do-programa-meninas-digitais/Copy of Projetos Meninas Digitais - Tabela de AGOSTO (01_08_2022).csv')\n",
    "dados_meninas.head()"
   ]
  },
  {
   "cell_type": "markdown",
   "id": "210058a1",
   "metadata": {
    "papermill": {
     "duration": 0.012011,
     "end_time": "2023-05-11T20:51:59.615792",
     "exception": false,
     "start_time": "2023-05-11T20:51:59.603781",
     "status": "completed"
    },
    "tags": []
   },
   "source": [
    "Selecionando apenas os dados de projetos válidos"
   ]
  },
  {
   "cell_type": "code",
   "execution_count": 5,
   "id": "3699436f",
   "metadata": {
    "execution": {
     "iopub.execute_input": "2023-05-11T20:51:59.642612Z",
     "iopub.status.busy": "2023-05-11T20:51:59.642134Z",
     "iopub.status.idle": "2023-05-11T20:51:59.662750Z",
     "shell.execute_reply": "2023-05-11T20:51:59.661439Z"
    },
    "papermill": {
     "duration": 0.037921,
     "end_time": "2023-05-11T20:51:59.665397",
     "exception": false,
     "start_time": "2023-05-11T20:51:59.627476",
     "status": "completed"
    },
    "tags": []
   },
   "outputs": [
    {
     "data": {
      "text/plain": [
       "array([ True])"
      ]
     },
     "execution_count": 5,
     "metadata": {},
     "output_type": "execute_result"
    }
   ],
   "source": [
    "dados_meninas = dados_meninas.loc[dados_meninas.Válido == True]\n",
    "dados_meninas.Válido.unique()"
   ]
  },
  {
   "cell_type": "code",
   "execution_count": 6,
   "id": "c1092154",
   "metadata": {
    "execution": {
     "iopub.execute_input": "2023-05-11T20:51:59.693571Z",
     "iopub.status.busy": "2023-05-11T20:51:59.693118Z",
     "iopub.status.idle": "2023-05-11T20:51:59.701858Z",
     "shell.execute_reply": "2023-05-11T20:51:59.700653Z"
    },
    "papermill": {
     "duration": 0.02528,
     "end_time": "2023-05-11T20:51:59.704346",
     "exception": false,
     "start_time": "2023-05-11T20:51:59.679066",
     "status": "completed"
    },
    "tags": []
   },
   "outputs": [
    {
     "data": {
      "text/plain": [
       "0.11688311688311688"
      ]
     },
     "execution_count": 6,
     "metadata": {},
     "output_type": "execute_result"
    }
   ],
   "source": [
    "dados_meninas['Código IES'].isnull().mean()"
   ]
  },
  {
   "cell_type": "markdown",
   "id": "cbdfeaf4",
   "metadata": {
    "papermill": {
     "duration": 0.01151,
     "end_time": "2023-05-11T20:51:59.727858",
     "exception": false,
     "start_time": "2023-05-11T20:51:59.716348",
     "status": "completed"
    },
    "tags": []
   },
   "source": [
    "selecionando apenas os projetos com universidades associadas"
   ]
  },
  {
   "cell_type": "code",
   "execution_count": 7,
   "id": "80726045",
   "metadata": {
    "execution": {
     "iopub.execute_input": "2023-05-11T20:51:59.753542Z",
     "iopub.status.busy": "2023-05-11T20:51:59.753096Z",
     "iopub.status.idle": "2023-05-11T20:51:59.760728Z",
     "shell.execute_reply": "2023-05-11T20:51:59.759334Z"
    },
    "papermill": {
     "duration": 0.023382,
     "end_time": "2023-05-11T20:51:59.763090",
     "exception": false,
     "start_time": "2023-05-11T20:51:59.739708",
     "status": "completed"
    },
    "tags": []
   },
   "outputs": [],
   "source": [
    "dados_meninas = dados_meninas.loc[(dados_meninas['Código IES'] != '-') & (~dados_meninas['Código IES'].isna())]"
   ]
  },
  {
   "cell_type": "code",
   "execution_count": 8,
   "id": "15440fc5",
   "metadata": {
    "execution": {
     "iopub.execute_input": "2023-05-11T20:51:59.789215Z",
     "iopub.status.busy": "2023-05-11T20:51:59.788746Z",
     "iopub.status.idle": "2023-05-11T20:51:59.796922Z",
     "shell.execute_reply": "2023-05-11T20:51:59.796010Z"
    },
    "papermill": {
     "duration": 0.02389,
     "end_time": "2023-05-11T20:51:59.799231",
     "exception": false,
     "start_time": "2023-05-11T20:51:59.775341",
     "status": "completed"
    },
    "tags": []
   },
   "outputs": [
    {
     "data": {
      "text/plain": [
       "array(['17', '572', '584', '719', '586', '575', '601', '756', '43', '580',\n",
       "       '4925', '57', '4', '3172', '15520', '1807', '3162', '588', '583',\n",
       "       '14724', '55', '5322', '579', '577', '1811', '1813', '3279', '599',\n",
       "       '4504', '3164', '574', '532', '3543', '1303', '3183', '423', '585',\n",
       "       '76', '8', '569', '2', '589', '590', '3189', '344'], dtype=object)"
      ]
     },
     "execution_count": 8,
     "metadata": {},
     "output_type": "execute_result"
    }
   ],
   "source": [
    "dados_meninas['Código IES'].unique()"
   ]
  },
  {
   "cell_type": "code",
   "execution_count": 9,
   "id": "0a527ab2",
   "metadata": {
    "execution": {
     "iopub.execute_input": "2023-05-11T20:51:59.826617Z",
     "iopub.status.busy": "2023-05-11T20:51:59.825905Z",
     "iopub.status.idle": "2023-05-11T20:51:59.833053Z",
     "shell.execute_reply": "2023-05-11T20:51:59.831888Z"
    },
    "papermill": {
     "duration": 0.023991,
     "end_time": "2023-05-11T20:51:59.835688",
     "exception": false,
     "start_time": "2023-05-11T20:51:59.811697",
     "status": "completed"
    },
    "tags": []
   },
   "outputs": [],
   "source": [
    "dados_meninas['Ano'] = pd.to_numeric(dados_meninas.Ano)\n",
    "dados_meninas['Código IES'] = dados_meninas['Código IES'].astype('int')"
   ]
  },
  {
   "cell_type": "code",
   "execution_count": 10,
   "id": "12b7fad5",
   "metadata": {
    "execution": {
     "iopub.execute_input": "2023-05-11T20:51:59.862126Z",
     "iopub.status.busy": "2023-05-11T20:51:59.861698Z",
     "iopub.status.idle": "2023-05-11T20:51:59.883441Z",
     "shell.execute_reply": "2023-05-11T20:51:59.882027Z"
    },
    "papermill": {
     "duration": 0.038158,
     "end_time": "2023-05-11T20:51:59.886234",
     "exception": false,
     "start_time": "2023-05-11T20:51:59.848076",
     "status": "completed"
    },
    "tags": []
   },
   "outputs": [
    {
     "name": "stdout",
     "output_type": "stream",
     "text": [
      "<class 'pandas.core.frame.DataFrame'>\n",
      "Int64Index: 56 entries, 0 to 149\n",
      "Data columns (total 13 columns):\n",
      " #   Column                    Non-Null Count  Dtype \n",
      "---  ------                    --------------  ----- \n",
      " 0   Válido                    56 non-null     bool  \n",
      " 1   Nome do Projeto           56 non-null     object\n",
      " 2   Status                    56 non-null     object\n",
      " 3   Ano                       56 non-null     int64 \n",
      " 4   Ano de Finalização        56 non-null     object\n",
      " 5   Contato                   56 non-null     object\n",
      " 6   Cidade                    56 non-null     object\n",
      " 7   Estado                    56 non-null     object\n",
      " 8   Universidade              56 non-null     object\n",
      " 9   Campus                    56 non-null     object\n",
      " 10  Nome do Projeto - Ativos  56 non-null     object\n",
      " 11  Código IES                56 non-null     int64 \n",
      " 12  Código Curso              55 non-null     object\n",
      "dtypes: bool(1), int64(2), object(10)\n",
      "memory usage: 5.7+ KB\n"
     ]
    }
   ],
   "source": [
    "dados_meninas.info()"
   ]
  },
  {
   "cell_type": "markdown",
   "id": "d0693b37",
   "metadata": {
    "papermill": {
     "duration": 0.01188,
     "end_time": "2023-05-11T20:51:59.910388",
     "exception": false,
     "start_time": "2023-05-11T20:51:59.898508",
     "status": "completed"
    },
    "tags": []
   },
   "source": [
    "Selecionando apenas os projetos que surgiram até 2019"
   ]
  },
  {
   "cell_type": "code",
   "execution_count": 11,
   "id": "79f84f42",
   "metadata": {
    "execution": {
     "iopub.execute_input": "2023-05-11T20:51:59.936633Z",
     "iopub.status.busy": "2023-05-11T20:51:59.936079Z",
     "iopub.status.idle": "2023-05-11T20:51:59.943445Z",
     "shell.execute_reply": "2023-05-11T20:51:59.942231Z"
    },
    "papermill": {
     "duration": 0.023298,
     "end_time": "2023-05-11T20:51:59.945889",
     "exception": false,
     "start_time": "2023-05-11T20:51:59.922591",
     "status": "completed"
    },
    "tags": []
   },
   "outputs": [],
   "source": [
    "dados_meninas = dados_meninas.loc[dados_meninas.Ano <= 2019]"
   ]
  },
  {
   "cell_type": "code",
   "execution_count": 12,
   "id": "dcac3e53",
   "metadata": {
    "execution": {
     "iopub.execute_input": "2023-05-11T20:51:59.974808Z",
     "iopub.status.busy": "2023-05-11T20:51:59.974351Z",
     "iopub.status.idle": "2023-05-11T20:52:00.227445Z",
     "shell.execute_reply": "2023-05-11T20:52:00.225740Z"
    },
    "papermill": {
     "duration": 0.273105,
     "end_time": "2023-05-11T20:52:00.231794",
     "exception": false,
     "start_time": "2023-05-11T20:51:59.958689",
     "status": "completed"
    },
    "tags": []
   },
   "outputs": [
    {
     "data": {
      "text/plain": [
       "<AxesSubplot:xlabel='Ano'>"
      ]
     },
     "execution_count": 12,
     "metadata": {},
     "output_type": "execute_result"
    },
    {
     "data": {
      "image/png": "[encoded data removed]",
      "text/plain": [
       "<Figure size 432x288 with 1 Axes>"
      ]
     },
     "metadata": {
      "needs_background": "light"
     },
     "output_type": "display_data"
    }
   ],
   "source": [
    "dados_meninas.groupby(['Ano'])['Ano'].count().plot(kind='bar')"
   ]
  },
  {
   "cell_type": "code",
   "execution_count": 13,
   "id": "07a5fc25",
   "metadata": {
    "execution": {
     "iopub.execute_input": "2023-05-11T20:52:00.263132Z",
     "iopub.status.busy": "2023-05-11T20:52:00.262571Z",
     "iopub.status.idle": "2023-05-11T20:52:00.486017Z",
     "shell.execute_reply": "2023-05-11T20:52:00.484681Z"
    },
    "papermill": {
     "duration": 0.242391,
     "end_time": "2023-05-11T20:52:00.489070",
     "exception": false,
     "start_time": "2023-05-11T20:52:00.246679",
     "status": "completed"
    },
    "tags": []
   },
   "outputs": [
    {
     "data": {
      "text/plain": [
       "<AxesSubplot:xlabel='TP_MODALIDADE_ENSINO'>"
      ]
     },
     "execution_count": 13,
     "metadata": {},
     "output_type": "execute_result"
    },
    {
     "data": {
      "image/png": "[encoded data removed]",
      "text/plain": [
       "<Figure size 432x288 with 1 Axes>"
      ]
     },
     "metadata": {
      "needs_background": "light"
     },
     "output_type": "display_data"
    }
   ],
   "source": [
    "dados_alunos.groupby(['TP_MODALIDADE_ENSINO'])['TP_MODALIDADE_ENSINO'].count().plot(kind='bar')"
   ]
  },
  {
   "cell_type": "markdown",
   "id": "bfa71e26",
   "metadata": {
    "papermill": {
     "duration": 0.012794,
     "end_time": "2023-05-11T20:52:00.515382",
     "exception": false,
     "start_time": "2023-05-11T20:52:00.502588",
     "status": "completed"
    },
    "tags": []
   },
   "source": [
    "Selecionando apenas os alunos de cursos presenciais"
   ]
  },
  {
   "cell_type": "code",
   "execution_count": 14,
   "id": "911fe15b",
   "metadata": {
    "execution": {
     "iopub.execute_input": "2023-05-11T20:52:00.544197Z",
     "iopub.status.busy": "2023-05-11T20:52:00.543353Z",
     "iopub.status.idle": "2023-05-11T20:52:02.225476Z",
     "shell.execute_reply": "2023-05-11T20:52:02.224089Z"
    },
    "papermill": {
     "duration": 1.699984,
     "end_time": "2023-05-11T20:52:02.228588",
     "exception": false,
     "start_time": "2023-05-11T20:52:00.528604",
     "status": "completed"
    },
    "tags": []
   },
   "outputs": [],
   "source": [
    "dados_alunos = dados_alunos.loc[dados_alunos.TP_MODALIDADE_ENSINO == 1]"
   ]
  },
  {
   "cell_type": "code",
   "execution_count": 15,
   "id": "37d67427",
   "metadata": {
    "execution": {
     "iopub.execute_input": "2023-05-11T20:52:02.257736Z",
     "iopub.status.busy": "2023-05-11T20:52:02.257281Z",
     "iopub.status.idle": "2023-05-11T20:52:02.449989Z",
     "shell.execute_reply": "2023-05-11T20:52:02.448738Z"
    },
    "papermill": {
     "duration": 0.210174,
     "end_time": "2023-05-11T20:52:02.452682",
     "exception": false,
     "start_time": "2023-05-11T20:52:02.242508",
     "status": "completed"
    },
    "tags": []
   },
   "outputs": [
    {
     "data": {
      "text/plain": [
       "<AxesSubplot:xlabel='TP_MODALIDADE_ENSINO'>"
      ]
     },
     "execution_count": 15,
     "metadata": {},
     "output_type": "execute_result"
    },
    {
     "data": {
      "image/png": "[encoded data removed]",
      "text/plain": [
       "<Figure size 432x288 with 1 Axes>"
      ]
     },
     "metadata": {
      "needs_background": "light"
     },
     "output_type": "display_data"
    }
   ],
   "source": [
    "dados_alunos.groupby(['TP_MODALIDADE_ENSINO'])['TP_MODALIDADE_ENSINO'].count().plot(kind='bar')"
   ]
  },
  {
   "cell_type": "code",
   "execution_count": 16,
   "id": "f7e43db7",
   "metadata": {
    "execution": {
     "iopub.execute_input": "2023-05-11T20:52:02.482013Z",
     "iopub.status.busy": "2023-05-11T20:52:02.481553Z",
     "iopub.status.idle": "2023-05-11T20:52:02.730656Z",
     "shell.execute_reply": "2023-05-11T20:52:02.729437Z"
    },
    "papermill": {
     "duration": 0.266777,
     "end_time": "2023-05-11T20:52:02.733624",
     "exception": false,
     "start_time": "2023-05-11T20:52:02.466847",
     "status": "completed"
    },
    "tags": []
   },
   "outputs": [
    {
     "data": {
      "text/plain": [
       "<AxesSubplot:xlabel='TP_CATEGORIA_ADMINISTRATIVA'>"
      ]
     },
     "execution_count": 16,
     "metadata": {},
     "output_type": "execute_result"
    },
    {
     "data": {
      "image/png": "[encoded data removed]",
      "text/plain": [
       "<Figure size 432x288 with 1 Axes>"
      ]
     },
     "metadata": {
      "needs_background": "light"
     },
     "output_type": "display_data"
    }
   ],
   "source": [
    "dados_alunos.groupby(['TP_CATEGORIA_ADMINISTRATIVA'])['TP_CATEGORIA_ADMINISTRATIVA'].count().plot(kind='bar')"
   ]
  },
  {
   "cell_type": "markdown",
   "id": "8cf53b80",
   "metadata": {
    "papermill": {
     "duration": 0.013362,
     "end_time": "2023-05-11T20:52:02.760861",
     "exception": false,
     "start_time": "2023-05-11T20:52:02.747499",
     "status": "completed"
    },
    "tags": []
   },
   "source": [
    "Selecionando apenas alunos de universidades públicas estaduais, federais e municipais"
   ]
  },
  {
   "cell_type": "code",
   "execution_count": 17,
   "id": "ce374a09",
   "metadata": {
    "execution": {
     "iopub.execute_input": "2023-05-11T20:52:02.790322Z",
     "iopub.status.busy": "2023-05-11T20:52:02.789839Z",
     "iopub.status.idle": "2023-05-11T20:52:03.360729Z",
     "shell.execute_reply": "2023-05-11T20:52:03.359635Z"
    },
    "papermill": {
     "duration": 0.589126,
     "end_time": "2023-05-11T20:52:03.363804",
     "exception": false,
     "start_time": "2023-05-11T20:52:02.774678",
     "status": "completed"
    },
    "tags": []
   },
   "outputs": [],
   "source": [
    "dados_alunos = dados_alunos.loc[(dados_alunos.TP_CATEGORIA_ADMINISTRATIVA == 1) | \n",
    "                                (dados_alunos.TP_CATEGORIA_ADMINISTRATIVA == 2) | \n",
    "                                (dados_alunos.TP_CATEGORIA_ADMINISTRATIVA == 3)]"
   ]
  },
  {
   "cell_type": "code",
   "execution_count": 18,
   "id": "89781f3f",
   "metadata": {
    "execution": {
     "iopub.execute_input": "2023-05-11T20:52:03.393865Z",
     "iopub.status.busy": "2023-05-11T20:52:03.393142Z",
     "iopub.status.idle": "2023-05-11T20:52:03.556895Z",
     "shell.execute_reply": "2023-05-11T20:52:03.555566Z"
    },
    "papermill": {
     "duration": 0.181581,
     "end_time": "2023-05-11T20:52:03.559731",
     "exception": false,
     "start_time": "2023-05-11T20:52:03.378150",
     "status": "completed"
    },
    "tags": []
   },
   "outputs": [
    {
     "data": {
      "text/plain": [
       "<AxesSubplot:xlabel='TP_CATEGORIA_ADMINISTRATIVA'>"
      ]
     },
     "execution_count": 18,
     "metadata": {},
     "output_type": "execute_result"
    },
    {
     "data": {
      "image/png": "[encoded data removed]",
      "text/plain": [
       "<Figure size 432x288 with 1 Axes>"
      ]
     },
     "metadata": {
      "needs_background": "light"
     },
     "output_type": "display_data"
    }
   ],
   "source": [
    "dados_alunos.groupby(['TP_CATEGORIA_ADMINISTRATIVA'])['TP_CATEGORIA_ADMINISTRATIVA'].count().plot(kind='bar')"
   ]
  },
  {
   "cell_type": "code",
   "execution_count": 19,
   "id": "a58b4580",
   "metadata": {
    "execution": {
     "iopub.execute_input": "2023-05-11T20:52:03.591098Z",
     "iopub.status.busy": "2023-05-11T20:52:03.590665Z",
     "iopub.status.idle": "2023-05-11T20:52:03.598484Z",
     "shell.execute_reply": "2023-05-11T20:52:03.597493Z"
    },
    "papermill": {
     "duration": 0.026265,
     "end_time": "2023-05-11T20:52:03.600883",
     "exception": false,
     "start_time": "2023-05-11T20:52:03.574618",
     "status": "completed"
    },
    "tags": []
   },
   "outputs": [
    {
     "data": {
      "text/plain": [
       "array([    2,     4,     8,    43,    55,    57,    76,   344,   423,\n",
       "         532,   569,   572,   574,   575,   577,   579,   580,   583,\n",
       "         584,   585,   586,   588,   589,   590,   599,   601,   719,\n",
       "         756,  1303,  1807,  1811,  1813,  3162,  3164,  3172,  3183,\n",
       "        3189,  3279,  3543,  4504,  4925,  5322, 14724, 15520])"
      ]
     },
     "execution_count": 19,
     "metadata": {},
     "output_type": "execute_result"
    }
   ],
   "source": [
    "dados_meninas['Código IES'].sort_values().unique()"
   ]
  },
  {
   "cell_type": "code",
   "execution_count": 20,
   "id": "482345af",
   "metadata": {
    "execution": {
     "iopub.execute_input": "2023-05-11T20:52:03.633879Z",
     "iopub.status.busy": "2023-05-11T20:52:03.632649Z",
     "iopub.status.idle": "2023-05-11T20:52:05.608245Z",
     "shell.execute_reply": "2023-05-11T20:52:05.607064Z"
    },
    "papermill": {
     "duration": 1.996108,
     "end_time": "2023-05-11T20:52:05.611946",
     "exception": false,
     "start_time": "2023-05-11T20:52:03.615838",
     "status": "completed"
    },
    "tags": []
   },
   "outputs": [],
   "source": [
    "df = pd.merge(dados_alunos, dados_meninas, left_on='CO_IES', right_on='Código IES')"
   ]
  },
  {
   "cell_type": "code",
   "execution_count": 21,
   "id": "e59cc353",
   "metadata": {
    "execution": {
     "iopub.execute_input": "2023-05-11T20:52:05.643060Z",
     "iopub.status.busy": "2023-05-11T20:52:05.642591Z",
     "iopub.status.idle": "2023-05-11T20:52:05.671540Z",
     "shell.execute_reply": "2023-05-11T20:52:05.670610Z"
    },
    "papermill": {
     "duration": 0.047281,
     "end_time": "2023-05-11T20:52:05.674023",
     "exception": false,
     "start_time": "2023-05-11T20:52:05.626742",
     "status": "completed"
    },
    "tags": []
   },
   "outputs": [
    {
     "data": {
      "text/plain": [
       "array([    2,     4,     8,    43,    55,    57,    76,   569,   572,\n",
       "         574,   575,   577,   579,   580,   583,   584,   585,   586,\n",
       "         588,   589,   590,   599,   601,   719,   756,  1303,  1807,\n",
       "        1811,  1813,  3162,  3164,  3172,  3183,  3189,  3279,  4504,\n",
       "        4925,  5322, 14724, 15520])"
      ]
     },
     "execution_count": 21,
     "metadata": {},
     "output_type": "execute_result"
    }
   ],
   "source": [
    "df['Código IES'].sort_values().unique()"
   ]
  },
  {
   "cell_type": "markdown",
   "id": "55adc7e5",
   "metadata": {
    "papermill": {
     "duration": 0.014249,
     "end_time": "2023-05-11T20:52:05.703680",
     "exception": false,
     "start_time": "2023-05-11T20:52:05.689431",
     "status": "completed"
    },
    "tags": []
   },
   "source": [
    "As universidades que não aparecem na base mergeada são particulares"
   ]
  },
  {
   "cell_type": "code",
   "execution_count": 22,
   "id": "7d37d7e0",
   "metadata": {
    "execution": {
     "iopub.execute_input": "2023-05-11T20:52:05.735651Z",
     "iopub.status.busy": "2023-05-11T20:52:05.734405Z",
     "iopub.status.idle": "2023-05-11T20:52:05.757780Z",
     "shell.execute_reply": "2023-05-11T20:52:05.756549Z"
    },
    "papermill": {
     "duration": 0.041866,
     "end_time": "2023-05-11T20:52:05.760325",
     "exception": false,
     "start_time": "2023-05-11T20:52:05.718459",
     "status": "completed"
    },
    "tags": []
   },
   "outputs": [
    {
     "data": {
      "text/html": [
       "<div>\n",
       "<style scoped>\n",
       "    .dataframe tbody tr th:only-of-type {\n",
       "        vertical-align: middle;\n",
       "    }\n",
       "\n",
       "    .dataframe tbody tr th {\n",
       "        vertical-align: top;\n",
       "    }\n",
       "\n",
       "    .dataframe thead th {\n",
       "        text-align: right;\n",
       "    }\n",
       "</style>\n",
       "<table border=\"1\" class=\"dataframe\">\n",
       "  <thead>\n",
       "    <tr style=\"text-align: right;\">\n",
       "      <th></th>\n",
       "      <th>Válido</th>\n",
       "      <th>Nome do Projeto</th>\n",
       "      <th>Status</th>\n",
       "      <th>Ano</th>\n",
       "      <th>Ano de Finalização</th>\n",
       "      <th>Contato</th>\n",
       "      <th>Cidade</th>\n",
       "      <th>Estado</th>\n",
       "      <th>Universidade</th>\n",
       "      <th>Campus</th>\n",
       "      <th>Nome do Projeto - Ativos</th>\n",
       "      <th>Código IES</th>\n",
       "      <th>Código Curso</th>\n",
       "    </tr>\n",
       "  </thead>\n",
       "  <tbody>\n",
       "    <tr>\n",
       "      <th>98</th>\n",
       "      <td>True</td>\n",
       "      <td>Meninas Digitais na Computação – UNIJUI</td>\n",
       "      <td>Ativo</td>\n",
       "      <td>2019</td>\n",
       "      <td>-</td>\n",
       "      <td>meninasdigitaisunijui@gmail.com</td>\n",
       "      <td>IJUÍ</td>\n",
       "      <td>RS</td>\n",
       "      <td>UNIJUI</td>\n",
       "      <td>Campus Ijuí II</td>\n",
       "      <td>Projeto Meninas Digitais na Computação - UNIJUI</td>\n",
       "      <td>532</td>\n",
       "      <td>110974</td>\n",
       "    </tr>\n",
       "    <tr>\n",
       "      <th>99</th>\n",
       "      <td>True</td>\n",
       "      <td>Meninas Digitais na IENH</td>\n",
       "      <td>Ativo</td>\n",
       "      <td>2019</td>\n",
       "      <td>-</td>\n",
       "      <td>https://ienh.com.br/meninasdigitais</td>\n",
       "      <td>Novo Hamburgo</td>\n",
       "      <td>RS</td>\n",
       "      <td>Faculdade IENH</td>\n",
       "      <td>CAMPUS SEDE</td>\n",
       "      <td>Meninas Digitais IENH</td>\n",
       "      <td>3543</td>\n",
       "      <td>119946, 1283122</td>\n",
       "    </tr>\n",
       "    <tr>\n",
       "      <th>106</th>\n",
       "      <td>True</td>\n",
       "      <td>Meninas Digitais Tchê Missões</td>\n",
       "      <td>Ativo</td>\n",
       "      <td>2016</td>\n",
       "      <td>-</td>\n",
       "      <td>meninasdigitais@san.uri.br, meninasdigitais@sa...</td>\n",
       "      <td>Santo Ângelo</td>\n",
       "      <td>RS</td>\n",
       "      <td>URI Campus de Santo Ângelo</td>\n",
       "      <td>Campus de Santo Ângelo</td>\n",
       "      <td>Meninas Digitais Tchê Missões</td>\n",
       "      <td>423</td>\n",
       "      <td>64076, 88180</td>\n",
       "    </tr>\n",
       "    <tr>\n",
       "      <th>148</th>\n",
       "      <td>True</td>\n",
       "      <td>Techno Girls</td>\n",
       "      <td>Ativo</td>\n",
       "      <td>2018</td>\n",
       "      <td>-</td>\n",
       "      <td>unatechnogirls@gmail.com</td>\n",
       "      <td>Belo Horizonte</td>\n",
       "      <td>MG</td>\n",
       "      <td>Centro Universitário Una</td>\n",
       "      <td>Campus Unatec Barreiro</td>\n",
       "      <td>Techno Girls</td>\n",
       "      <td>344</td>\n",
       "      <td>53405,  72981, 72983, 92834, 1161428, 1205761,...</td>\n",
       "    </tr>\n",
       "  </tbody>\n",
       "</table>\n",
       "</div>"
      ],
      "text/plain": [
       "     Válido                          Nome do Projeto Status   Ano  \\\n",
       "98     True  Meninas Digitais na Computação – UNIJUI  Ativo  2019   \n",
       "99     True                 Meninas Digitais na IENH  Ativo  2019   \n",
       "106    True            Meninas Digitais Tchê Missões  Ativo  2016   \n",
       "148    True                             Techno Girls  Ativo  2018   \n",
       "\n",
       "    Ano de Finalização                                            Contato  \\\n",
       "98                   -                    meninasdigitaisunijui@gmail.com   \n",
       "99                   -                https://ienh.com.br/meninasdigitais   \n",
       "106                  -  meninasdigitais@san.uri.br, meninasdigitais@sa...   \n",
       "148                  -                           unatechnogirls@gmail.com   \n",
       "\n",
       "             Cidade Estado                Universidade  \\\n",
       "98             IJUÍ     RS                      UNIJUI   \n",
       "99    Novo Hamburgo     RS              Faculdade IENH   \n",
       "106    Santo Ângelo     RS  URI Campus de Santo Ângelo   \n",
       "148  Belo Horizonte     MG    Centro Universitário Una   \n",
       "\n",
       "                     Campus                         Nome do Projeto - Ativos  \\\n",
       "98           Campus Ijuí II  Projeto Meninas Digitais na Computação - UNIJUI   \n",
       "99              CAMPUS SEDE                            Meninas Digitais IENH   \n",
       "106  Campus de Santo Ângelo                    Meninas Digitais Tchê Missões   \n",
       "148  Campus Unatec Barreiro                                     Techno Girls   \n",
       "\n",
       "     Código IES                                       Código Curso  \n",
       "98          532                                             110974  \n",
       "99         3543                                    119946, 1283122  \n",
       "106         423                                       64076, 88180  \n",
       "148         344  53405,  72981, 72983, 92834, 1161428, 1205761,...  "
      ]
     },
     "execution_count": 22,
     "metadata": {},
     "output_type": "execute_result"
    }
   ],
   "source": [
    "dados_meninas.loc[dados_meninas['Código IES'].isin([344, 423, 532, 3543])]"
   ]
  },
  {
   "cell_type": "markdown",
   "id": "63fc7366",
   "metadata": {
    "papermill": {
     "duration": 0.01458,
     "end_time": "2023-05-11T20:52:05.790104",
     "exception": false,
     "start_time": "2023-05-11T20:52:05.775524",
     "status": "completed"
    },
    "tags": []
   },
   "source": [
    "salvando a base criada"
   ]
  },
  {
   "cell_type": "code",
   "execution_count": 23,
   "id": "4d8f8a05",
   "metadata": {
    "execution": {
     "iopub.execute_input": "2023-05-11T20:52:05.822880Z",
     "iopub.status.busy": "2023-05-11T20:52:05.822414Z",
     "iopub.status.idle": "2023-05-11T20:52:05.964745Z",
     "shell.execute_reply": "2023-05-11T20:52:05.963348Z"
    },
    "papermill": {
     "duration": 0.161756,
     "end_time": "2023-05-11T20:52:05.967768",
     "exception": false,
     "start_time": "2023-05-11T20:52:05.806012",
     "status": "completed"
    },
    "tags": []
   },
   "outputs": [
    {
     "data": {
      "text/html": [
       "<div>\n",
       "<style scoped>\n",
       "    .dataframe tbody tr th:only-of-type {\n",
       "        vertical-align: middle;\n",
       "    }\n",
       "\n",
       "    .dataframe tbody tr th {\n",
       "        vertical-align: top;\n",
       "    }\n",
       "\n",
       "    .dataframe thead th {\n",
       "        text-align: right;\n",
       "    }\n",
       "</style>\n",
       "<table border=\"1\" class=\"dataframe\">\n",
       "  <thead>\n",
       "    <tr style=\"text-align: right;\">\n",
       "      <th></th>\n",
       "      <th>NU_ANO_CENSO</th>\n",
       "      <th>CO_IES</th>\n",
       "      <th>TP_CATEGORIA_ADMINISTRATIVA</th>\n",
       "      <th>TP_ORGANIZACAO_ACADEMICA</th>\n",
       "      <th>CO_CURSO</th>\n",
       "      <th>CO_CURSO_POLO</th>\n",
       "      <th>TP_TURNO</th>\n",
       "      <th>TP_GRAU_ACADEMICO</th>\n",
       "      <th>TP_MODALIDADE_ENSINO</th>\n",
       "      <th>TP_NIVEL_ACADEMICO</th>\n",
       "      <th>...</th>\n",
       "      <th>Ano</th>\n",
       "      <th>Ano de Finalização</th>\n",
       "      <th>Contato</th>\n",
       "      <th>Cidade</th>\n",
       "      <th>Estado</th>\n",
       "      <th>Universidade</th>\n",
       "      <th>Campus</th>\n",
       "      <th>Nome do Projeto - Ativos</th>\n",
       "      <th>Código IES</th>\n",
       "      <th>Código Curso</th>\n",
       "    </tr>\n",
       "  </thead>\n",
       "  <tbody>\n",
       "    <tr>\n",
       "      <th>0</th>\n",
       "      <td>2009</td>\n",
       "      <td>588</td>\n",
       "      <td>1</td>\n",
       "      <td>1</td>\n",
       "      <td>69282</td>\n",
       "      <td>NaN</td>\n",
       "      <td>NaN</td>\n",
       "      <td>3.0</td>\n",
       "      <td>1</td>\n",
       "      <td>1</td>\n",
       "      <td>...</td>\n",
       "      <td>2013</td>\n",
       "      <td>-</td>\n",
       "      <td>http://emilias.dainf.ct.utfpr.edu.br/</td>\n",
       "      <td>Curitiba</td>\n",
       "      <td>PR</td>\n",
       "      <td>Universidade Tecnológica Federal do Paraná</td>\n",
       "      <td>CÂMPUS CURITIBA - Sede CENTRO / CURITIBA (SEDE)</td>\n",
       "      <td>Emili@s</td>\n",
       "      <td>588</td>\n",
       "      <td>106102, 115582,  69282,  21191</td>\n",
       "    </tr>\n",
       "    <tr>\n",
       "      <th>1</th>\n",
       "      <td>2009</td>\n",
       "      <td>588</td>\n",
       "      <td>1</td>\n",
       "      <td>1</td>\n",
       "      <td>69282</td>\n",
       "      <td>NaN</td>\n",
       "      <td>NaN</td>\n",
       "      <td>3.0</td>\n",
       "      <td>1</td>\n",
       "      <td>1</td>\n",
       "      <td>...</td>\n",
       "      <td>2019</td>\n",
       "      <td>-</td>\n",
       "      <td>sabim@utfpr.edu.br</td>\n",
       "      <td>Curitiba</td>\n",
       "      <td>PR</td>\n",
       "      <td>Universidade Tecnológica Federal do Paraná – c...</td>\n",
       "      <td>CÂMPUS CURITIBA - Sede CENTRO\\t</td>\n",
       "      <td>TIChers</td>\n",
       "      <td>588</td>\n",
       "      <td>115582</td>\n",
       "    </tr>\n",
       "    <tr>\n",
       "      <th>2</th>\n",
       "      <td>2009</td>\n",
       "      <td>588</td>\n",
       "      <td>1</td>\n",
       "      <td>1</td>\n",
       "      <td>45480</td>\n",
       "      <td>NaN</td>\n",
       "      <td>NaN</td>\n",
       "      <td>3.0</td>\n",
       "      <td>1</td>\n",
       "      <td>1</td>\n",
       "      <td>...</td>\n",
       "      <td>2013</td>\n",
       "      <td>-</td>\n",
       "      <td>http://emilias.dainf.ct.utfpr.edu.br/</td>\n",
       "      <td>Curitiba</td>\n",
       "      <td>PR</td>\n",
       "      <td>Universidade Tecnológica Federal do Paraná</td>\n",
       "      <td>CÂMPUS CURITIBA - Sede CENTRO / CURITIBA (SEDE)</td>\n",
       "      <td>Emili@s</td>\n",
       "      <td>588</td>\n",
       "      <td>106102, 115582,  69282,  21191</td>\n",
       "    </tr>\n",
       "    <tr>\n",
       "      <th>3</th>\n",
       "      <td>2009</td>\n",
       "      <td>588</td>\n",
       "      <td>1</td>\n",
       "      <td>1</td>\n",
       "      <td>45480</td>\n",
       "      <td>NaN</td>\n",
       "      <td>NaN</td>\n",
       "      <td>3.0</td>\n",
       "      <td>1</td>\n",
       "      <td>1</td>\n",
       "      <td>...</td>\n",
       "      <td>2019</td>\n",
       "      <td>-</td>\n",
       "      <td>sabim@utfpr.edu.br</td>\n",
       "      <td>Curitiba</td>\n",
       "      <td>PR</td>\n",
       "      <td>Universidade Tecnológica Federal do Paraná – c...</td>\n",
       "      <td>CÂMPUS CURITIBA - Sede CENTRO\\t</td>\n",
       "      <td>TIChers</td>\n",
       "      <td>588</td>\n",
       "      <td>115582</td>\n",
       "    </tr>\n",
       "    <tr>\n",
       "      <th>4</th>\n",
       "      <td>2009</td>\n",
       "      <td>588</td>\n",
       "      <td>1</td>\n",
       "      <td>1</td>\n",
       "      <td>85822</td>\n",
       "      <td>NaN</td>\n",
       "      <td>NaN</td>\n",
       "      <td>3.0</td>\n",
       "      <td>1</td>\n",
       "      <td>1</td>\n",
       "      <td>...</td>\n",
       "      <td>2013</td>\n",
       "      <td>-</td>\n",
       "      <td>http://emilias.dainf.ct.utfpr.edu.br/</td>\n",
       "      <td>Curitiba</td>\n",
       "      <td>PR</td>\n",
       "      <td>Universidade Tecnológica Federal do Paraná</td>\n",
       "      <td>CÂMPUS CURITIBA - Sede CENTRO / CURITIBA (SEDE)</td>\n",
       "      <td>Emili@s</td>\n",
       "      <td>588</td>\n",
       "      <td>106102, 115582,  69282,  21191</td>\n",
       "    </tr>\n",
       "  </tbody>\n",
       "</table>\n",
       "<p>5 rows × 87 columns</p>\n",
       "</div>"
      ],
      "text/plain": [
       "   NU_ANO_CENSO  CO_IES  TP_CATEGORIA_ADMINISTRATIVA  \\\n",
       "0          2009     588                            1   \n",
       "1          2009     588                            1   \n",
       "2          2009     588                            1   \n",
       "3          2009     588                            1   \n",
       "4          2009     588                            1   \n",
       "\n",
       "   TP_ORGANIZACAO_ACADEMICA  CO_CURSO  CO_CURSO_POLO  TP_TURNO  \\\n",
       "0                         1     69282            NaN       NaN   \n",
       "1                         1     69282            NaN       NaN   \n",
       "2                         1     45480            NaN       NaN   \n",
       "3                         1     45480            NaN       NaN   \n",
       "4                         1     85822            NaN       NaN   \n",
       "\n",
       "   TP_GRAU_ACADEMICO  TP_MODALIDADE_ENSINO  TP_NIVEL_ACADEMICO  ...   Ano  \\\n",
       "0                3.0                     1                   1  ...  2013   \n",
       "1                3.0                     1                   1  ...  2019   \n",
       "2                3.0                     1                   1  ...  2013   \n",
       "3                3.0                     1                   1  ...  2019   \n",
       "4                3.0                     1                   1  ...  2013   \n",
       "\n",
       "  Ano de Finalização                                Contato    Cidade  Estado  \\\n",
       "0                  -  http://emilias.dainf.ct.utfpr.edu.br/  Curitiba      PR   \n",
       "1                  -                     sabim@utfpr.edu.br  Curitiba      PR   \n",
       "2                  -  http://emilias.dainf.ct.utfpr.edu.br/  Curitiba      PR   \n",
       "3                  -                     sabim@utfpr.edu.br  Curitiba      PR   \n",
       "4                  -  http://emilias.dainf.ct.utfpr.edu.br/  Curitiba      PR   \n",
       "\n",
       "                                        Universidade  \\\n",
       "0         Universidade Tecnológica Federal do Paraná   \n",
       "1  Universidade Tecnológica Federal do Paraná – c...   \n",
       "2         Universidade Tecnológica Federal do Paraná   \n",
       "3  Universidade Tecnológica Federal do Paraná – c...   \n",
       "4         Universidade Tecnológica Federal do Paraná   \n",
       "\n",
       "                                            Campus  Nome do Projeto - Ativos  \\\n",
       "0  CÂMPUS CURITIBA - Sede CENTRO / CURITIBA (SEDE)                   Emili@s   \n",
       "1                  CÂMPUS CURITIBA - Sede CENTRO\\t                   TIChers   \n",
       "2  CÂMPUS CURITIBA - Sede CENTRO / CURITIBA (SEDE)                   Emili@s   \n",
       "3                  CÂMPUS CURITIBA - Sede CENTRO\\t                   TIChers   \n",
       "4  CÂMPUS CURITIBA - Sede CENTRO / CURITIBA (SEDE)                   Emili@s   \n",
       "\n",
       "   Código IES                    Código Curso  \n",
       "0         588  106102, 115582,  69282,  21191  \n",
       "1         588                          115582  \n",
       "2         588  106102, 115582,  69282,  21191  \n",
       "3         588                          115582  \n",
       "4         588  106102, 115582,  69282,  21191  \n",
       "\n",
       "[5 rows x 87 columns]"
      ]
     },
     "execution_count": 23,
     "metadata": {},
     "output_type": "execute_result"
    }
   ],
   "source": [
    "df.head()"
   ]
  },
  {
   "cell_type": "code",
   "execution_count": 24,
   "id": "c930a676",
   "metadata": {
    "execution": {
     "iopub.execute_input": "2023-05-11T20:52:06.002956Z",
     "iopub.status.busy": "2023-05-11T20:52:06.002522Z",
     "iopub.status.idle": "2023-05-11T20:52:06.032535Z",
     "shell.execute_reply": "2023-05-11T20:52:06.031102Z"
    },
    "papermill": {
     "duration": 0.05127,
     "end_time": "2023-05-11T20:52:06.035689",
     "exception": false,
     "start_time": "2023-05-11T20:52:05.984419",
     "status": "completed"
    },
    "tags": []
   },
   "outputs": [
    {
     "data": {
      "text/plain": [
       "array([    2,     4,     8,    43,    55,    57,    76,   569,   572,\n",
       "         574,   575,   577,   579,   580,   583,   584,   585,   586,\n",
       "         588,   589,   590,   599,   601,   719,   756,  1303,  1807,\n",
       "        1811,  1813,  3162,  3164,  3172,  3183,  3189,  3279,  4504,\n",
       "        4925,  5322, 14724, 15520])"
      ]
     },
     "execution_count": 24,
     "metadata": {},
     "output_type": "execute_result"
    }
   ],
   "source": [
    "df.CO_IES.sort_values().unique()"
   ]
  },
  {
   "cell_type": "code",
   "execution_count": 25,
   "id": "fca8d9d4",
   "metadata": {
    "execution": {
     "iopub.execute_input": "2023-05-11T20:52:06.070038Z",
     "iopub.status.busy": "2023-05-11T20:52:06.069630Z",
     "iopub.status.idle": "2023-05-11T20:52:29.280478Z",
     "shell.execute_reply": "2023-05-11T20:52:29.279107Z"
    },
    "papermill": {
     "duration": 23.232104,
     "end_time": "2023-05-11T20:52:29.283734",
     "exception": false,
     "start_time": "2023-05-11T20:52:06.051630",
     "status": "completed"
    },
    "tags": []
   },
   "outputs": [],
   "source": [
    "df.to_csv('alunos_projeto.csv', index=False)"
   ]
  }
 ],
 "metadata": {
  "kernelspec": {
   "display_name": "Python 3",
   "language": "python",
   "name": "python3"
  },
  "language_info": {
   "codemirror_mode": {
    "name": "ipython",
    "version": 3
   },
   "file_extension": ".py",
   "mimetype": "text/x-python",
   "name": "python",
   "nbconvert_exporter": "python",
   "pygments_lexer": "ipython3",
   "version": "3.7.12"
  },
  "papermill": {
   "default_parameters": {},
   "duration": 94.690581,
   "end_time": "2023-05-11T20:52:30.529437",
   "environment_variables": {},
   "exception": null,
   "input_path": "__notebook__.ipynb",
   "output_path": "__notebook__.ipynb",
   "parameters": {},
   "start_time": "2023-05-11T20:50:55.838856",
   "version": "2.3.4"
  }
 },
 "nbformat": 4,
 "nbformat_minor": 5
}
